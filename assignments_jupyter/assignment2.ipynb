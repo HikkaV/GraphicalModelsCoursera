{
 "cells": [
  {
   "cell_type": "markdown",
   "id": "19150b8c",
   "metadata": {},
   "source": [
    "# phenotypeGivenGenotypeMendelianFactor"
   ]
  },
  {
   "cell_type": "code",
   "execution_count": 23,
   "id": "a336b396",
   "metadata": {},
   "outputs": [],
   "source": [
    "cd ../assignment2"
   ]
  },
  {
   "cell_type": "code",
   "execution_count": 43,
   "id": "9ef65b16",
   "metadata": {},
   "outputs": [],
   "source": [
    "isDominant = 0;\n",
    "genotypeVar = 1;\n",
    "phenotypeVar = 3;"
   ]
  },
  {
   "cell_type": "code",
   "execution_count": 44,
   "id": "e1201cc1",
   "metadata": {},
   "outputs": [],
   "source": [
    "phenotypeFactor = struct('var', [], 'card', [], 'val', []);\n"
   ]
  },
  {
   "cell_type": "code",
   "execution_count": 47,
   "id": "524b44f3",
   "metadata": {},
   "outputs": [],
   "source": [
    "phenotypeFactor.var = [phenotypeVar genotypeVar];\n",
    "phenotypeFactor.card = [2 3];\n",
    "if isDominant,\n",
    "    phenotypeFactor.val = [1 0 1 0 0 1];\n",
    "else\n",
    "    phenotypeFactor.val = [0 1 0 1 1 0];\n",
    "end"
   ]
  },
  {
   "cell_type": "markdown",
   "id": "4ab7c3fe",
   "metadata": {},
   "source": [
    "P(phenotype | genotype)\n",
    "\n",
    "\n",
    "P(phenotype=True | FF)\n",
    "\n",
    "P(phenotype=False | FF)\n",
    "\n",
    "P(phenotype=True | Ff)\n",
    "\n",
    "P(phenotype=False | Ff)\n",
    "\n",
    "P(phenotype=True | ff)\n",
    "\n",
    "P(phenotype=False | ff)\n"
   ]
  },
  {
   "cell_type": "code",
   "execution_count": 48,
   "id": "61e89eef",
   "metadata": {},
   "outputs": [
    {
     "name": "stdout",
     "output_type": "stream",
     "text": [
      "phenotypeFactor =\r\n",
      "\r\n",
      "  scalar structure containing the fields:\r\n",
      "\r\n",
      "    var =\r\n",
      "\r\n",
      "       3   1\r\n",
      "\r\n",
      "    card =\r\n",
      "\r\n",
      "       2   3\r\n",
      "\r\n",
      "    val =\r\n",
      "\r\n",
      "       0   1   0   1   1   0\r\n",
      "\r\n",
      "\r\n"
     ]
    }
   ],
   "source": [
    "phenotypeFactor"
   ]
  },
  {
   "cell_type": "markdown",
   "id": "bc855839",
   "metadata": {},
   "source": [
    "# phenotypeGivenGenotypeFactor"
   ]
  },
  {
   "cell_type": "code",
   "execution_count": 65,
   "id": "20c512fe",
   "metadata": {},
   "outputs": [],
   "source": [
    "phenotypeFactor = struct('var', [], 'card', [], 'val', []);\n"
   ]
  },
  {
   "cell_type": "code",
   "execution_count": 66,
   "id": "35dcce03",
   "metadata": {},
   "outputs": [],
   "source": [
    "alphaList = [0.8; 0.6; 0.1];\n",
    "genotypeVar = 1;\n",
    "phenotypeVar = 3;"
   ]
  },
  {
   "cell_type": "code",
   "execution_count": 67,
   "id": "fc8a76f4",
   "metadata": {},
   "outputs": [],
   "source": [
    "phenotypeFactor.var = [phenotypeVar genotypeVar];\n",
    "phenotypeFactor.card = [2 length(alphaList)];"
   ]
  },
  {
   "cell_type": "code",
   "execution_count": 68,
   "id": "26168e29",
   "metadata": {},
   "outputs": [],
   "source": [
    "val = [];\n",
    "for i=1:length(alphaList),\n",
    "    prob = alphaList(i);\n",
    "    val = [val [prob 1-prob]];\n",
    "end\n",
    "phenotypeFactor.val = val;"
   ]
  },
  {
   "cell_type": "code",
   "execution_count": 69,
   "id": "b3043830",
   "metadata": {},
   "outputs": [
    {
     "name": "stdout",
     "output_type": "stream",
     "text": [
      "phenotypeFactor =\r\n",
      "\r\n",
      "  scalar structure containing the fields:\r\n",
      "\r\n",
      "    var =\r\n",
      "\r\n",
      "       3   1\r\n",
      "\r\n",
      "    card =\r\n",
      "\r\n",
      "       2   3\r\n",
      "\r\n",
      "    val =\r\n",
      "\r\n",
      "       0.8000   0.2000   0.6000   0.4000   0.1000   0.9000\r\n",
      "\r\n",
      "\r\n"
     ]
    }
   ],
   "source": [
    "phenotypeFactor"
   ]
  },
  {
   "cell_type": "markdown",
   "id": "60983c44",
   "metadata": {},
   "source": [
    "# genotypeGivenAlleleFreqsFactor"
   ]
  },
  {
   "cell_type": "code",
   "execution_count": 70,
   "id": "a0438707",
   "metadata": {},
   "outputs": [],
   "source": [
    "alleleFreqs = [0.1; 0.9];\n",
    "genotypeVar = 1;"
   ]
  },
  {
   "cell_type": "code",
   "execution_count": 71,
   "id": "3026a01d",
   "metadata": {},
   "outputs": [],
   "source": [
    "numAlleles = length(alleleFreqs);\n"
   ]
  },
  {
   "cell_type": "code",
   "execution_count": 90,
   "id": "58b9bf01",
   "metadata": {},
   "outputs": [],
   "source": [
    "genotypeFactor = struct('var', [], 'card', [], 'val', []);\n"
   ]
  },
  {
   "cell_type": "code",
   "execution_count": 72,
   "id": "3dd571f4",
   "metadata": {},
   "outputs": [],
   "source": [
    "[allelesToGenotypes, genotypesToAlleles] = generateAlleleGenotypeMappers(numAlleles);\n"
   ]
  },
  {
   "cell_type": "code",
   "execution_count": 112,
   "id": "4dd582ce",
   "metadata": {},
   "outputs": [],
   "source": [
    "genotypeFactor.var = [genotypeVar];\n",
    "genotypeFactor.card = [numAlleles+1];\n",
    "for i=1:length(genotypesToAlleles),\n",
    "    idx = genotypesToAlleles(i,:); \n",
    "    prob = alleleFreqs(idx(1))*alleleFreqs(idx(2));\n",
    "    if idx(1)!=idx(2),\n",
    "        prob = prob * 2;\n",
    "    end\n",
    "    genotypeFactor = SetValueOfAssignment(genotypeFactor, i, prob);\n",
    "end"
   ]
  },
  {
   "cell_type": "code",
   "execution_count": 113,
   "id": "1828f2bb",
   "metadata": {},
   "outputs": [
    {
     "name": "stdout",
     "output_type": "stream",
     "text": [
      "genotypeFactor =\r\n",
      "\r\n",
      "  scalar structure containing the fields:\r\n",
      "\r\n",
      "    var = [](0x0)\r\n",
      "    card = 3\r\n",
      "    val =\r\n",
      "\r\n",
      "       0.010000   0.180000   0.810000\r\n",
      "\r\n",
      "\r\n"
     ]
    }
   ],
   "source": [
    "genotypeFactor"
   ]
  },
  {
   "cell_type": "markdown",
   "id": "a87982a6",
   "metadata": {},
   "source": [
    "# genotypeGivenParentsGenotypesFactor"
   ]
  },
  {
   "cell_type": "code",
   "execution_count": 312,
   "id": "60cb1be1",
   "metadata": {},
   "outputs": [],
   "source": [
    "genotypeFactor = struct('var', [], 'card', [], 'val', []);\n"
   ]
  },
  {
   "cell_type": "code",
   "execution_count": 370,
   "id": "48a4de5d",
   "metadata": {},
   "outputs": [],
   "source": [
    "numAlleles = 3;\n",
    "genotypeVarChild = 3;\n",
    "genotypeVarParentOne = 1;\n",
    "genotypeVarParentTwo = 2;"
   ]
  },
  {
   "cell_type": "code",
   "execution_count": 371,
   "id": "e11b57a5",
   "metadata": {},
   "outputs": [],
   "source": [
    "[allelesToGenotypes, genotypesToAlleles] = generateAlleleGenotypeMappers(numAlleles);\n"
   ]
  },
  {
   "cell_type": "code",
   "execution_count": 372,
   "id": "60f632ac",
   "metadata": {},
   "outputs": [
    {
     "name": "stdout",
     "output_type": "stream",
     "text": [
      "ans = 2\r\n"
     ]
    }
   ],
   "source": [
    "allelesToGenotypes(1,2,1)"
   ]
  },
  {
   "cell_type": "code",
   "execution_count": 373,
   "id": "8964c44e",
   "metadata": {},
   "outputs": [
    {
     "name": "stdout",
     "output_type": "stream",
     "text": [
      "allelesToGenotypes =\r\n",
      "\r\n",
      "   1   2   3\r\n",
      "   2   4   5\r\n",
      "   3   5   6\r\n",
      "\r\n"
     ]
    }
   ],
   "source": [
    "allelesToGenotypes"
   ]
  },
  {
   "cell_type": "code",
   "execution_count": 374,
   "id": "0d817ed9",
   "metadata": {},
   "outputs": [],
   "source": [
    "genotypeFactor.var = [genotypeVarChild, genotypeVarParentOne, genotypeVarParentTwo ];"
   ]
  },
  {
   "cell_type": "code",
   "execution_count": 375,
   "id": "d4da26fa",
   "metadata": {},
   "outputs": [
    {
     "name": "stdout",
     "output_type": "stream",
     "text": [
      "card = 6\r\n"
     ]
    }
   ],
   "source": [
    "card = numAlleles*(numAlleles-1)/2+numAlleles"
   ]
  },
  {
   "cell_type": "code",
   "execution_count": 376,
   "id": "db695681",
   "metadata": {},
   "outputs": [],
   "source": [
    "genotypeFactor.card = [card card card];"
   ]
  },
  {
   "cell_type": "code",
   "execution_count": 377,
   "id": "a914ee8c",
   "metadata": {},
   "outputs": [
    {
     "name": "stdout",
     "output_type": "stream",
     "text": [
      "ans = 2\r\n"
     ]
    }
   ],
   "source": [
    "allele_comb_parent_two(2)"
   ]
  },
  {
   "cell_type": "code",
   "execution_count": 378,
   "id": "0fa10e0b",
   "metadata": {},
   "outputs": [
    {
     "name": "stdout",
     "output_type": "stream",
     "text": [
      "genotypesToAlleles =\r\n",
      "\r\n",
      "   1   1\r\n",
      "   1   2\r\n",
      "   1   3\r\n",
      "   2   2\r\n",
      "   2   3\r\n",
      "   3   3\r\n",
      "\r\n"
     ]
    }
   ],
   "source": [
    "genotypesToAlleles"
   ]
  },
  {
   "cell_type": "code",
   "execution_count": 379,
   "id": "ee04744b",
   "metadata": {},
   "outputs": [],
   "source": [
    "val = [];\n",
    "for j=1:length(genotypesToAlleles),\n",
    "    for z=1:length(genotypesToAlleles),\n",
    "        allele_comb_parent_one = genotypesToAlleles(z, :);\n",
    "        allele_comb_parent_two = genotypesToAlleles(j, :);\n",
    "        unq = [];\n",
    "        for idx1=1:length(allele_comb_parent_one),\n",
    "            for idx2=1:length(allele_comb_parent_two),\n",
    "                unq = [unq; [allele_comb_parent_one(idx1) allele_comb_parent_two(idx2)]];\n",
    "            end\n",
    "        end\n",
    "        unq = unique(unq, 'rows');\n",
    "        unnormalized_probs = zeros(1, card);\n",
    "        for idx=1:size(unq,1),\n",
    "            index = unq(idx,:);\n",
    "            if index(1)>index(2),\n",
    "                index = [index(2) index(1)];\n",
    "            end\n",
    "            [_, index] = max(sum(genotypesToAlleles==index,2));\n",
    "            unnormalized_probs(index) = unnormalized_probs(index)+1;\n",
    "        end\n",
    "        unnormalized_probs = unnormalized_probs/sum(unnormalized_probs);\n",
    "        val = [val unnormalized_probs];\n",
    "    end\n",
    "end"
   ]
  },
  {
   "cell_type": "code",
   "execution_count": 380,
   "id": "44118237",
   "metadata": {},
   "outputs": [],
   "source": [
    "genotypeFactor.val = val;"
   ]
  },
  {
   "cell_type": "code",
   "execution_count": 381,
   "id": "e6a42d25",
   "metadata": {},
   "outputs": [
    {
     "name": "stdout",
     "output_type": "stream",
     "text": [
      "genotypeFactor =\r\n",
      "\r\n",
      "  scalar structure containing the fields:\r\n",
      "\r\n",
      "    var =\r\n",
      "\r\n",
      "       3   1   2\r\n",
      "\r\n",
      "    card =\r\n",
      "\r\n",
      "       6   6   6\r\n",
      "\r\n",
      "    val =\r\n",
      "\r\n",
      "     Columns 1 through 8:\r\n",
      "\r\n",
      "       1.0000        0        0        0        0        0   0.5000   0.5000\r\n",
      "\r\n",
      "     Columns 9 through 16:\r\n",
      "\r\n",
      "            0        0        0        0   0.5000        0   0.5000        0\r\n",
      "\r\n",
      "     Columns 17 through 24:\r\n",
      "\r\n",
      "            0        0        0   1.0000        0        0        0        0\r\n",
      "\r\n",
      "     Columns 25 through 32:\r\n",
      "\r\n",
      "            0   0.5000   0.5000        0        0        0        0        0\r\n",
      "\r\n",
      "     Columns 33 through 40:\r\n",
      "\r\n",
      "       1.0000        0        0        0   0.5000   0.5000        0        0\r\n",
      "\r\n",
      "     Columns 41 through 48:\r\n",
      "\r\n",
      "            0        0   0.2500   0.5000        0   0.2500        0        0\r\n",
      "\r\n",
      "     Columns 49 through 56:\r\n",
      "\r\n",
      "       0.2500   0.2500   0.2500        0   0.2500        0        0   0.5000\r\n",
      "\r\n",
      "     Columns 57 through 64:\r\n",
      "\r\n",
      "            0   0.5000        0        0        0   0.2500   0.2500   0.2500\r\n",
      "\r\n",
      "     Columns 65 through 72:\r\n",
      "\r\n",
      "       0.2500        0        0        0   0.5000        0   0.5000        0\r\n",
      "\r\n",
      "     Columns 73 through 80:\r\n",
      "\r\n",
      "       0.5000        0   0.5000        0        0        0   0.2500   0.2500\r\n",
      "\r\n",
      "     Columns 81 through 88:\r\n",
      "\r\n",
      "       0.2500        0   0.2500        0   0.2500        0   0.5000        0\r\n",
      "\r\n",
      "     Columns 89 through 96:\r\n",
      "\r\n",
      "            0   0.2500        0   0.5000        0        0   0.5000        0\r\n",
      "\r\n",
      "     Columns 97 through 104:\r\n",
      "\r\n",
      "            0   0.2500   0.2500        0   0.2500   0.2500        0        0\r\n",
      "\r\n",
      "     Columns 105 through 112:\r\n",
      "\r\n",
      "       0.5000        0        0   0.5000        0   1.0000        0        0\r\n",
      "\r\n",
      "     Columns 113 through 120:\r\n",
      "\r\n",
      "            0        0        0   0.5000        0   0.5000        0        0\r\n",
      "\r\n",
      "     Columns 121 through 128:\r\n",
      "\r\n",
      "            0   0.5000        0        0   0.5000        0        0        0\r\n",
      "\r\n",
      "     Columns 129 through 136:\r\n",
      "\r\n",
      "            0   1.0000        0        0        0        0        0   0.5000\r\n",
      "\r\n",
      "     Columns 137 through 144:\r\n",
      "\r\n",
      "       0.5000        0        0        0        0        0   1.0000        0\r\n",
      "\r\n",
      "     Columns 145 through 152:\r\n",
      "\r\n",
      "            0   0.5000   0.5000        0        0        0        0   0.2500\r\n",
      "\r\n",
      "     Columns 153 through 160:\r\n",
      "\r\n",
      "       0.2500   0.2500   0.2500        0        0   0.2500   0.2500        0\r\n",
      "\r\n",
      "     Columns 161 through 168:\r\n",
      "\r\n",
      "       0.2500   0.2500        0        0        0   0.5000   0.5000        0\r\n",
      "\r\n",
      "     Columns 169 through 176:\r\n",
      "\r\n",
      "            0        0        0   0.2500   0.5000   0.2500        0        0\r\n",
      "\r\n",
      "     Columns 177 through 184:\r\n",
      "\r\n",
      "            0        0   0.5000   0.5000        0        0   1.0000        0\r\n",
      "\r\n",
      "     Columns 185 through 192:\r\n",
      "\r\n",
      "            0        0        0        0   0.5000        0   0.5000        0\r\n",
      "\r\n",
      "     Columns 193 through 200:\r\n",
      "\r\n",
      "            0        0   0.5000        0        0   0.5000        0        0\r\n",
      "\r\n",
      "     Columns 201 through 208:\r\n",
      "\r\n",
      "            0        0   1.0000        0        0        0        0        0\r\n",
      "\r\n",
      "     Columns 209 through 216:\r\n",
      "\r\n",
      "       0.5000   0.5000        0        0        0        0        0   1.0000\r\n",
      "\r\n",
      "\r\n"
     ]
    }
   ],
   "source": [
    "genotypeFactor"
   ]
  },
  {
   "cell_type": "markdown",
   "id": "eab0f678",
   "metadata": {},
   "source": [
    "# constructGeneticNetwork"
   ]
  },
  {
   "cell_type": "code",
   "execution_count": 382,
   "id": "6e81391b",
   "metadata": {},
   "outputs": [],
   "source": [
    "pedigree = struct('parents', [0,0;1,3;0,0]);\n",
    "pedigree.names = {'Ira','James','Robin'};\n",
    "alleleFreqs = [0.1; 0.9];\n",
    "alphaList = [0.8; 0.6; 0.1];"
   ]
  },
  {
   "cell_type": "code",
   "execution_count": 383,
   "id": "28c06745",
   "metadata": {},
   "outputs": [],
   "source": [
    "numPeople = length(pedigree.names);\n"
   ]
  },
  {
   "cell_type": "code",
   "execution_count": 385,
   "id": "447b8108",
   "metadata": {},
   "outputs": [],
   "source": [
    "factorList(2*numPeople) = struct('var', [], 'card', [], 'val', []);\n",
    "\n",
    "numAlleles = length(alleleFreqs);"
   ]
  },
  {
   "cell_type": "code",
   "execution_count": 437,
   "id": "c68459ac",
   "metadata": {},
   "outputs": [],
   "source": [
    "for idx=1:numPeople,\n",
    "    parents = pedigree.parents(idx,:);\n",
    "    if ~sum(parents)\n",
    "        factorList(idx) = genotypeGivenAlleleFreqsFactor(alleleFreqs, idx);\n",
    "    else\n",
    "        factorList(idx) = genotypeGivenParentsGenotypesFactor(numAlleles, idx, parents(1), parents(2));\n",
    "    end\n",
    "    factorList(numPeople+idx) = phenotypeGivenGenotypeFactor(alphaList, idx, numPeople+idx);\n",
    "\n",
    "end"
   ]
  },
  {
   "cell_type": "markdown",
   "id": "51a8ea1b",
   "metadata": {},
   "source": [
    "# phenotypeGivenCopiesFactor"
   ]
  },
  {
   "cell_type": "code",
   "execution_count": 836,
   "id": "f6445234",
   "metadata": {},
   "outputs": [],
   "source": [
    "alphaListThree = [0.8; 0.6; 0.1; 0.5; 0.05; 0.01];\n",
    "numAllelesThree = 3;\n",
    "genotypeVarMotherCopy = 1;\n",
    "genotypeVarFatherCopy = 2;\n",
    "phenotypeVar = 3;"
   ]
  },
  {
   "cell_type": "code",
   "execution_count": 837,
   "id": "35360c2a",
   "metadata": {},
   "outputs": [],
   "source": [
    "[allelesToGenotypes, genotypesToAlleles] = generateAlleleGenotypeMappers(numAllelesThree);\n"
   ]
  },
  {
   "cell_type": "code",
   "execution_count": 838,
   "id": "243407e8",
   "metadata": {},
   "outputs": [],
   "source": [
    "phenotypeFactor = struct('var', [], 'card', [], 'val', []);\n"
   ]
  },
  {
   "cell_type": "code",
   "execution_count": 839,
   "id": "254e54d4",
   "metadata": {},
   "outputs": [],
   "source": [
    "phenotypeFactor.var = [phenotypeVar genotypeVarMotherCopy  genotypeVarFatherCopy];"
   ]
  },
  {
   "cell_type": "code",
   "execution_count": 840,
   "id": "e1d14200",
   "metadata": {},
   "outputs": [],
   "source": [
    "phenotypeFactor.card = [numAllelesThree-1 numAllelesThree numAllelesThree];"
   ]
  },
  {
   "cell_type": "code",
   "execution_count": 844,
   "id": "bc2de8eb",
   "metadata": {},
   "outputs": [],
   "source": [
    "phenotypeFactor.val = zeros(1, prod(phenotypeFactor.card));\n",
    "\n",
    "Assignments = IndexToAssignment(1:length(phenotypeFactor.val), phenotypeFactor.card);\n"
   ]
  },
  {
   "cell_type": "code",
   "execution_count": 846,
   "id": "e970484b",
   "metadata": {
    "scrolled": true
   },
   "outputs": [],
   "source": [
    "Assignments = IndexToAssignment(1:length(phenotypeFactor.val), phenotypeFactor.card);\n",
    "for i=1:phenotypeFactor.card(1)\n",
    "    for j=1:phenotypeFactor.card(2)\n",
    "        for k=1:phenotypeFactor.card(3)\n",
    "            ind = AssignmentToIndex([i,j,k], phenotypeFactor.card);\n",
    "            if(i==1)\n",
    "                phenotypeFactor.val(ind) = alphaList(allelesToGenotypes(j,k));\n",
    "            else\n",
    "                phenotypeFactor.val(ind) = 1-alphaList(allelesToGenotypes(j,k));\n",
    "            end;\n",
    "        end;\n",
    "    end;\n",
    "end;"
   ]
  },
  {
   "cell_type": "code",
   "execution_count": 847,
   "id": "3b6adef2",
   "metadata": {},
   "outputs": [
    {
     "name": "stdout",
     "output_type": "stream",
     "text": [
      "ans =\r\n",
      "\r\n",
      "    1   18\r\n",
      "\r\n"
     ]
    }
   ],
   "source": [
    "size(val)"
   ]
  },
  {
   "cell_type": "code",
   "execution_count": 848,
   "id": "0b5d40fa",
   "metadata": {},
   "outputs": [
    {
     "name": "stdout",
     "output_type": "stream",
     "text": [
      "val =\r\n",
      "\r\n",
      " Columns 1 through 7:\r\n",
      "\r\n",
      "   0.800000   0.200000   0.600000   0.400000   0.100000   0.900000   0.600000\r\n",
      "\r\n",
      " Columns 8 through 14:\r\n",
      "\r\n",
      "   0.400000   0.500000   0.500000   0.050000   0.950000   0.100000   0.900000\r\n",
      "\r\n",
      " Columns 15 through 18:\r\n",
      "\r\n",
      "   0.050000   0.950000   0.010000   0.990000\r\n",
      "\r\n"
     ]
    }
   ],
   "source": [
    "val"
   ]
  },
  {
   "cell_type": "code",
   "execution_count": 528,
   "id": "1517303d",
   "metadata": {},
   "outputs": [
    {
     "name": "stdout",
     "output_type": "stream",
     "text": [
      "val =\r\n",
      "\r\n",
      " Columns 1 through 7:\r\n",
      "\r\n",
      "   0.800000   0.200000   0.600000   0.400000   0.100000   0.900000   0.600000\r\n",
      "\r\n",
      " Columns 8 through 14:\r\n",
      "\r\n",
      "   0.400000   0.500000   0.500000   0.050000   0.950000   0.100000   0.900000\r\n",
      "\r\n",
      " Columns 15 through 18:\r\n",
      "\r\n",
      "   0.050000   0.950000   0.010000   0.990000\r\n",
      "\r\n"
     ]
    }
   ],
   "source": [
    "val"
   ]
  },
  {
   "cell_type": "markdown",
   "id": "d85cabc9",
   "metadata": {},
   "source": [
    "# constructDecoupledGeneticNetwork"
   ]
  },
  {
   "cell_type": "code",
   "execution_count": 849,
   "id": "7c2a6bd0",
   "metadata": {},
   "outputs": [],
   "source": [
    "clear"
   ]
  },
  {
   "cell_type": "code",
   "execution_count": 850,
   "id": "7a036501",
   "metadata": {},
   "outputs": [],
   "source": [
    "pedigree = struct('parents', [0,0;1,3;0,0]);\n",
    "pedigree.names = {'Ira','James','Robin'};\n",
    "alleleFreqs = [0.1; 0.7; 0.2];\n",
    "alphaList = [0.8; 0.6; 0.1; 0.5; 0.05; 0.01];"
   ]
  },
  {
   "cell_type": "code",
   "execution_count": 851,
   "id": "e3646e2d",
   "metadata": {},
   "outputs": [],
   "source": [
    "numPeople = length(pedigree.names);\n",
    "numAlleles = length(alleleFreqs); % Number of alleles\n",
    "factorList(3*numPeople) = struct('var', [], 'card', [], 'val', []);\n"
   ]
  },
  {
   "cell_type": "code",
   "execution_count": 852,
   "id": "a7d56666",
   "metadata": {},
   "outputs": [
    {
     "name": "stdout",
     "output_type": "stream",
     "text": [
      "ans =\r\n",
      "\r\n",
      "   0   0\r\n",
      "\r\n"
     ]
    }
   ],
   "source": [
    "pedigree.parents(1,:)"
   ]
  },
  {
   "cell_type": "code",
   "execution_count": 853,
   "id": "c581485e",
   "metadata": {},
   "outputs": [
    {
     "name": "stdout",
     "output_type": "stream",
     "text": [
      "ans = Ira\r\n"
     ]
    }
   ],
   "source": [
    "pedigree.names{pedigree.parents(2,1)}"
   ]
  },
  {
   "cell_type": "code",
   "execution_count": 854,
   "id": "c92b6e58",
   "metadata": {},
   "outputs": [],
   "source": [
    "counter = 0;\n",
    "for gen_type=[1 2],\n",
    "    for idx=1:numPeople,\n",
    "        parent = pedigree.parents(idx,gen_type);\n",
    "        if ~sum(parent)\n",
    "            factorList(idx+counter) = childCopyGivenFreqsFactor(alleleFreqs, idx+counter);\n",
    "        else\n",
    "            factorList(idx+counter) = childCopyGivenParentalsFactor(numAlleles, idx+counter, parent, parent+numPeople);\n",
    "        end\n",
    "    end\n",
    "    counter = numPeople;\n",
    "end\n"
   ]
  },
  {
   "cell_type": "code",
   "execution_count": 856,
   "id": "fda0234e",
   "metadata": {},
   "outputs": [],
   "source": [
    "for idx=1:numPeople,\n",
    "    factorList(2*numPeople+idx) = phenotypeGivenCopiesFactor(alphaList, numAlleles, idx, numPeople+idx, 2*numPeople+idx);\n",
    "end"
   ]
  },
  {
   "cell_type": "code",
   "execution_count": 857,
   "id": "0a864bf6",
   "metadata": {},
   "outputs": [],
   "source": [
    "sampleFactorListDecoupled = load('sampleFactorListDecoupled.mat');"
   ]
  },
  {
   "cell_type": "code",
   "execution_count": 866,
   "id": "198b6d7d",
   "metadata": {},
   "outputs": [
    {
     "name": "stdout",
     "output_type": "stream",
     "text": [
      "ans =\r\n",
      "\r\n",
      "  scalar structure containing the fields:\r\n",
      "\r\n",
      "    var =\r\n",
      "\r\n",
      "       9   3   6\r\n",
      "\r\n",
      "    card =\r\n",
      "\r\n",
      "       2   3   3\r\n",
      "\r\n",
      "    val =\r\n",
      "\r\n",
      "     Columns 1 through 6:\r\n",
      "\r\n",
      "       0.800000   0.200000   0.600000   0.400000   0.100000   0.900000\r\n",
      "\r\n",
      "     Columns 7 through 12:\r\n",
      "\r\n",
      "       0.600000   0.400000   0.500000   0.500000   0.050000   0.950000\r\n",
      "\r\n",
      "     Columns 13 through 18:\r\n",
      "\r\n",
      "       0.100000   0.900000   0.050000   0.950000   0.010000   0.990000\r\n",
      "\r\n",
      "\r\n"
     ]
    }
   ],
   "source": [
    "sampleFactorListDecoupled.sampleFactorListDecoupled(9)"
   ]
  },
  {
   "cell_type": "code",
   "execution_count": 865,
   "id": "0fd8332c",
   "metadata": {},
   "outputs": [
    {
     "name": "stdout",
     "output_type": "stream",
     "text": [
      "ans =\r\n",
      "\r\n",
      "  scalar structure containing the fields:\r\n",
      "\r\n",
      "    var =\r\n",
      "\r\n",
      "       9   3   6\r\n",
      "\r\n",
      "    card =\r\n",
      "\r\n",
      "       2   3   3\r\n",
      "\r\n",
      "    val =\r\n",
      "\r\n",
      "     Columns 1 through 6:\r\n",
      "\r\n",
      "       0.800000   0.200000   0.600000   0.400000   0.100000   0.900000\r\n",
      "\r\n",
      "     Columns 7 through 12:\r\n",
      "\r\n",
      "       0.600000   0.400000   0.500000   0.500000   0.050000   0.950000\r\n",
      "\r\n",
      "     Columns 13 through 18:\r\n",
      "\r\n",
      "       0.100000   0.900000   0.050000   0.950000   0.010000   0.990000\r\n",
      "\r\n",
      "\r\n"
     ]
    }
   ],
   "source": [
    "factorList(9)"
   ]
  },
  {
   "cell_type": "markdown",
   "id": "29a9fcb5",
   "metadata": {},
   "source": [
    "# ConstructSigmoidPhenotypeFactor"
   ]
  },
  {
   "cell_type": "code",
   "execution_count": 914,
   "id": "0d5f7484",
   "metadata": {},
   "outputs": [],
   "source": [
    "alleleWeights = {[3, -3], [0.9, -0.8]};\n",
    "geneCopyVarOneList = [1; 2];\n",
    "geneCopyVarTwoList = [4; 5];\n",
    "phenotypeVar = 3;"
   ]
  },
  {
   "cell_type": "code",
   "execution_count": 915,
   "id": "f85df9d5",
   "metadata": {},
   "outputs": [],
   "source": [
    "phenotypeFactor = struct('var', [], 'card', [], 'val', []);\n",
    "\n",
    "%%%%%%%%%%%%%%%%%%%%%%%%%%%%%%%%%%%%%%%%%%%%%%%%%%%%%%%%%%%%%%%%%%%%%%%%%%%\n",
    "% INSERT YOUR CODE HERE\n",
    "% Note that computeSigmoid.m will be useful for this function.\n",
    "%%%%%%%%%%%%%%%%%%%%%%%%%%%%%%%%%%%%%%%%%%%%%%%%%%%%%%%%%%%%%%%%%%%%%%%%%%%  \n",
    "\n",
    "% Fill in phenotypeFactor.var.  This should be a 1-D row vector.\n",
    "% Fill in phenotypeFactor.card.  This should be a 1-D row vector.\n",
    "phenotypeFactor.var = [phenotypeVar, geneCopyVarOneList', geneCopyVarTwoList'];\n",
    "phenotypeFactor.card = ones(1, 5) * 2;\n",
    "\n",
    "phenotypeFactor.val = zeros(1, prod(phenotypeFactor.card));\n",
    "% Replace the zeros in phentoypeFactor.val with the correct values.\n",
    "\n",
    "assignments = IndexToAssignment(1:length(phenotypeFactor.val), phenotypeFactor.card);\n",
    "% assignments = assignments - 1;  % reset to zero index\n",
    "phenotypeZero = assignments(find(assignments(:, 1)==1), 2:end);\n",
    "\n",
    "n_alleles = length(alleleWeights{1});\n",
    "n_genes = length(geneCopyVarOneList);\n",
    "\n",
    "for pheno=1:size(phenotypeZero, 1)\n",
    "    a = phenotypeZero(pheno, :);\n",
    "\n",
    "    z = 0;\n",
    "    for j=1:n_genes\n",
    "        for i=1:n_alleles\n",
    "            z = z + alleleWeights{j}(i) * sum(a(j:n_genes:end)==i);\n",
    "        end\n",
    "    end\n",
    "\n",
    "    % z = sum(a(1:n_genes:end)) * alleleWeights{1}(1) + ...\n",
    "    %     sum(a(2:n_genes:end)) * alleleWeights{1}(2) + ...\n",
    "    %     sum(a(2:n_genes:end)) * alleleWeights{2}(1) + ...\n",
    "    %     sum(a(1:n_genes:end)) * alleleWeights{2}(2)\n",
    "    z2 = computeSigmoid(z);\n",
    "\n",
    "    phenotypeFactor.val(pheno*n_genes - 1) = z2;\n",
    "    phenotypeFactor.val(pheno*n_genes) = 1 - z2;\n",
    "\n",
    "end"
   ]
  },
  {
   "cell_type": "code",
   "execution_count": 918,
   "id": "e96e5cbd",
   "metadata": {},
   "outputs": [
    {
     "name": "stdout",
     "output_type": "stream",
     "text": [
      "ans =\r\n",
      "\r\n",
      " Columns 1 through 6:\r\n",
      "\r\n",
      "   9.9959e-01   4.0957e-04   8.5815e-01   1.4185e-01   9.9776e-01   2.2378e-03\r\n",
      "\r\n",
      " Columns 7 through 12:\r\n",
      "\r\n",
      "   5.2498e-01   4.7502e-01   8.5815e-01   1.4185e-01   1.4774e-02   9.8523e-01\r\n",
      "\r\n",
      " Columns 13 through 18:\r\n",
      "\r\n",
      "   5.2498e-01   4.7502e-01   2.7320e-03   9.9727e-01   9.9776e-01   2.2378e-03\r\n",
      "\r\n",
      " Columns 19 through 24:\r\n",
      "\r\n",
      "   5.2498e-01   4.7502e-01   9.8787e-01   1.2128e-02   1.6798e-01   8.3202e-01\r\n",
      "\r\n",
      " Columns 25 through 30:\r\n",
      "\r\n",
      "   5.2498e-01   4.7502e-01   2.7320e-03   9.9727e-01   1.6798e-01   8.3202e-01\r\n",
      "\r\n",
      " Columns 31 and 32:\r\n",
      "\r\n",
      "   5.0020e-04   9.9950e-01\r\n",
      "\r\n"
     ]
    }
   ],
   "source": [
    "phenotypeFactor.val"
   ]
  },
  {
   "cell_type": "code",
   "execution_count": 889,
   "id": "9b278cf6",
   "metadata": {},
   "outputs": [
    {
     "name": "stdout",
     "output_type": "stream",
     "text": [
      "ans = 2\r\n"
     ]
    }
   ],
   "source": [
    "geneCopyVarParentOneList(2)"
   ]
  },
  {
   "cell_type": "code",
   "execution_count": 899,
   "id": "f4766a16",
   "metadata": {},
   "outputs": [
    {
     "name": "stdout",
     "output_type": "stream",
     "text": [
      "ans = 0.9802\r\n"
     ]
    }
   ],
   "source": [
    "computeSigmoid(3*(1+0)+0.9*(1+0))"
   ]
  },
  {
   "cell_type": "code",
   "execution_count": null,
   "id": "8fc0a11b",
   "metadata": {},
   "outputs": [],
   "source": []
  }
 ],
 "metadata": {
  "kernelspec": {
   "display_name": "Octave",
   "language": "octave",
   "name": "octave"
  },
  "language_info": {
   "file_extension": ".m",
   "help_links": [
    {
     "text": "GNU Octave",
     "url": "https://www.gnu.org/software/octave/support.html"
    },
    {
     "text": "Octave Kernel",
     "url": "https://github.com/Calysto/octave_kernel"
    },
    {
     "text": "MetaKernel Magics",
     "url": "https://metakernel.readthedocs.io/en/latest/source/README.html"
    }
   ],
   "mimetype": "text/x-octave",
   "name": "octave",
   "version": "6.3.0"
  }
 },
 "nbformat": 4,
 "nbformat_minor": 5
}
