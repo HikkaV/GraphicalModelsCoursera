{
 "cells": [
  {
   "cell_type": "markdown",
   "id": "2ec781f6",
   "metadata": {},
   "source": [
    "# Actual assignment"
   ]
  },
  {
   "cell_type": "markdown",
   "id": "da94dda2",
   "metadata": {},
   "source": [
    "### Factor product"
   ]
  },
  {
   "cell_type": "code",
   "execution_count": 1,
   "id": "7f815f25",
   "metadata": {},
   "outputs": [
    {
     "name": "stdout",
     "output_type": "stream",
     "text": [
      "ans = /Users/volodymyrkovenko/GraphCourse/assignments\r\n"
     ]
    }
   ],
   "source": [
    "pwd"
   ]
  },
  {
   "cell_type": "code",
   "execution_count": 2,
   "id": "98b84c80",
   "metadata": {},
   "outputs": [],
   "source": [
    "cd ../assignment1"
   ]
  },
  {
   "cell_type": "code",
   "execution_count": 9,
   "id": "0354c392",
   "metadata": {},
   "outputs": [],
   "source": [
    "A = struct('var', [1], 'card', [2], 'val', [0.11, 0.89]);\n",
    "B = struct('var', [2, 1], 'card', [2, 2], 'val', [0.59, 0.41, 0.22, 0.78]);"
   ]
  },
  {
   "cell_type": "code",
   "execution_count": 10,
   "id": "1addff1a",
   "metadata": {},
   "outputs": [
    {
     "name": "stdout",
     "output_type": "stream",
     "text": [
      "ans = 1\r\n",
      "ans =\r\n",
      "\r\n",
      "   2   1\r\n",
      "\r\n"
     ]
    }
   ],
   "source": [
    "A.var, B.var"
   ]
  },
  {
   "cell_type": "code",
   "execution_count": 11,
   "id": "9dbf3c7c",
   "metadata": {},
   "outputs": [],
   "source": [
    "C.var = union(A.var, B.var);"
   ]
  },
  {
   "cell_type": "code",
   "execution_count": 12,
   "id": "eec89c79",
   "metadata": {},
   "outputs": [
    {
     "name": "stdout",
     "output_type": "stream",
     "text": [
      "ans =\r\n",
      "\r\n",
      "   1   2\r\n",
      "\r\n"
     ]
    }
   ],
   "source": [
    "C.var"
   ]
  },
  {
   "cell_type": "code",
   "execution_count": 13,
   "id": "489074af",
   "metadata": {},
   "outputs": [],
   "source": [
    "[dummy, mapA] = ismember(A.var, C.var);\n",
    "[dummy, mapB] = ismember(B.var, C.var);"
   ]
  },
  {
   "cell_type": "code",
   "execution_count": 15,
   "id": "f5f981a2",
   "metadata": {},
   "outputs": [
    {
     "name": "stdout",
     "output_type": "stream",
     "text": [
      "mapA = 1\r\n",
      "mapB =\r\n",
      "\r\n",
      "   2   1\r\n",
      "\r\n"
     ]
    }
   ],
   "source": [
    "mapA, mapB"
   ]
  },
  {
   "cell_type": "code",
   "execution_count": 16,
   "id": "d6911410",
   "metadata": {},
   "outputs": [],
   "source": [
    "C.card = zeros(1, length(C.var));"
   ]
  },
  {
   "cell_type": "code",
   "execution_count": 17,
   "id": "503b68bf",
   "metadata": {},
   "outputs": [
    {
     "name": "stdout",
     "output_type": "stream",
     "text": [
      "ans =\r\n",
      "\r\n",
      "  0  0\r\n",
      "\r\n"
     ]
    }
   ],
   "source": [
    "C.card"
   ]
  },
  {
   "cell_type": "code",
   "execution_count": 18,
   "id": "c9d2f481",
   "metadata": {},
   "outputs": [
    {
     "name": "stdout",
     "output_type": "stream",
     "text": [
      "ans = 2\r\n",
      "ans =\r\n",
      "\r\n",
      "   2   2\r\n",
      "\r\n"
     ]
    }
   ],
   "source": [
    "A.card, B.card"
   ]
  },
  {
   "cell_type": "code",
   "execution_count": 19,
   "id": "5f81db88",
   "metadata": {},
   "outputs": [],
   "source": [
    "C.card(mapA) = A.card;\n",
    "C.card(mapB) = B.card;"
   ]
  },
  {
   "cell_type": "code",
   "execution_count": 20,
   "id": "22b051db",
   "metadata": {},
   "outputs": [
    {
     "name": "stdout",
     "output_type": "stream",
     "text": [
      "ans =\r\n",
      "\r\n",
      "   2   2\r\n",
      "\r\n"
     ]
    }
   ],
   "source": [
    "C.card"
   ]
  },
  {
   "cell_type": "code",
   "execution_count": 21,
   "id": "8dc86797",
   "metadata": {},
   "outputs": [],
   "source": [
    "C.val = zeros(1, prod(C.card));"
   ]
  },
  {
   "cell_type": "code",
   "execution_count": 22,
   "id": "6a7bc1e8",
   "metadata": {},
   "outputs": [
    {
     "name": "stdout",
     "output_type": "stream",
     "text": [
      "ans =\r\n",
      "\r\n",
      "  0  0  0  0\r\n",
      "\r\n"
     ]
    }
   ],
   "source": [
    "C.val"
   ]
  },
  {
   "cell_type": "code",
   "execution_count": 25,
   "id": "10c9b71b",
   "metadata": {},
   "outputs": [
    {
     "name": "stdout",
     "output_type": "stream",
     "text": [
      "ans =\r\n",
      "\r\n",
      "   1   2   3   4\r\n",
      "\r\n"
     ]
    }
   ],
   "source": [
    "1:prod(C.card)"
   ]
  },
  {
   "cell_type": "code",
   "execution_count": 26,
   "id": "34bbcbe9",
   "metadata": {},
   "outputs": [],
   "source": [
    "assignments = IndexToAssignment(1:prod(C.card), C.card);\n"
   ]
  },
  {
   "cell_type": "code",
   "execution_count": 33,
   "id": "142a7bba",
   "metadata": {},
   "outputs": [
    {
     "name": "stdout",
     "output_type": "stream",
     "text": [
      "assignments =\r\n",
      "\r\n",
      "   1   1\r\n",
      "   2   1\r\n",
      "   1   2\r\n",
      "   2   2\r\n",
      "\r\n"
     ]
    }
   ],
   "source": [
    "assignments"
   ]
  },
  {
   "cell_type": "code",
   "execution_count": 32,
   "id": "e3efee22",
   "metadata": {},
   "outputs": [
    {
     "name": "stdout",
     "output_type": "stream",
     "text": [
      "ans =\r\n",
      "\r\n",
      "   1\r\n",
      "   2\r\n",
      "   1\r\n",
      "   2\r\n",
      "\r\n"
     ]
    }
   ],
   "source": [
    "assignments(:, mapA)"
   ]
  },
  {
   "cell_type": "code",
   "execution_count": 34,
   "id": "98ea0b61",
   "metadata": {},
   "outputs": [],
   "source": [
    "indxA = AssignmentToIndex(assignments(:, mapA), A.card);"
   ]
  },
  {
   "cell_type": "code",
   "execution_count": 35,
   "id": "79af5133",
   "metadata": {},
   "outputs": [
    {
     "name": "stdout",
     "output_type": "stream",
     "text": [
      "indxA =\r\n",
      "\r\n",
      "   1\r\n",
      "   2\r\n",
      "   1\r\n",
      "   2\r\n",
      "\r\n"
     ]
    }
   ],
   "source": [
    "indxA"
   ]
  },
  {
   "cell_type": "code",
   "execution_count": 37,
   "id": "dc095e34",
   "metadata": {},
   "outputs": [
    {
     "name": "stdout",
     "output_type": "stream",
     "text": [
      "ans =\r\n",
      "\r\n",
      "   0.1100   0.8900\r\n",
      "\r\n"
     ]
    }
   ],
   "source": [
    "A.val"
   ]
  },
  {
   "cell_type": "code",
   "execution_count": 38,
   "id": "11a06d6f",
   "metadata": {},
   "outputs": [
    {
     "name": "stdout",
     "output_type": "stream",
     "text": [
      "mapB =\r\n",
      "\r\n",
      "   2   1\r\n",
      "\r\n"
     ]
    }
   ],
   "source": [
    "mapB"
   ]
  },
  {
   "cell_type": "code",
   "execution_count": 41,
   "id": "ff88c3ee",
   "metadata": {},
   "outputs": [],
   "source": [
    "indxB = AssignmentToIndex(assignments(:, mapB), B.card);\n"
   ]
  },
  {
   "cell_type": "code",
   "execution_count": 42,
   "id": "0800101e",
   "metadata": {},
   "outputs": [
    {
     "name": "stdout",
     "output_type": "stream",
     "text": [
      "indxB =\r\n",
      "\r\n",
      "   1\r\n",
      "   3\r\n",
      "   2\r\n",
      "   4\r\n",
      "\r\n"
     ]
    }
   ],
   "source": [
    "indxB"
   ]
  },
  {
   "cell_type": "code",
   "execution_count": 61,
   "id": "787e26ca",
   "metadata": {},
   "outputs": [],
   "source": [
    "iterations = 1:length(assignments);\n",
    "for i=iterations,\n",
    "    val = B.val(indxB(i))*A.val(indxA(i));\n",
    "    C = SetValueOfAssignment(C, assignments(i,:), val);\n",
    "end"
   ]
  },
  {
   "cell_type": "code",
   "execution_count": 62,
   "id": "dfb79c95",
   "metadata": {},
   "outputs": [
    {
     "name": "stdout",
     "output_type": "stream",
     "text": [
      "C =\r\n",
      "\r\n",
      "  scalar structure containing the fields:\r\n",
      "\r\n",
      "    var =\r\n",
      "\r\n",
      "       1   2\r\n",
      "\r\n",
      "    card =\r\n",
      "\r\n",
      "       2   2\r\n",
      "\r\n",
      "    val =\r\n",
      "\r\n",
      "       0.064900   0.195800   0.045100   0.694200\r\n",
      "\r\n",
      "\r\n"
     ]
    }
   ],
   "source": [
    "C"
   ]
  },
  {
   "cell_type": "markdown",
   "id": "4f0335b0",
   "metadata": {},
   "source": [
    "### Factor marginalization"
   ]
  },
  {
   "cell_type": "code",
   "execution_count": 232,
   "id": "d96e981e",
   "metadata": {},
   "outputs": [],
   "source": [
    "clear"
   ]
  },
  {
   "cell_type": "code",
   "execution_count": 241,
   "id": "48f48723",
   "metadata": {},
   "outputs": [],
   "source": [
    "A = struct('var', [2, 1], 'card', [2, 2], 'val', [0.59, 0.41, 0.22, 0.78]);\n",
    "V = [2];"
   ]
  },
  {
   "cell_type": "code",
   "execution_count": 242,
   "id": "e9d215ee",
   "metadata": {},
   "outputs": [],
   "source": [
    "[B.var, mapB] = setdiff(A.var, V);"
   ]
  },
  {
   "cell_type": "code",
   "execution_count": 247,
   "id": "fb66622c",
   "metadata": {},
   "outputs": [],
   "source": [
    "B.card = A.card(mapB);\n",
    "B.val = zeros(1, prod(B.card));"
   ]
  },
  {
   "cell_type": "code",
   "execution_count": 248,
   "id": "a2fe0637",
   "metadata": {},
   "outputs": [],
   "source": [
    "assignments = IndexToAssignment(1:length(A.val), A.card);\n",
    "indxB = AssignmentToIndex(assignments(:, mapB), B.card);"
   ]
  },
  {
   "cell_type": "code",
   "execution_count": 251,
   "id": "5ea23392",
   "metadata": {},
   "outputs": [
    {
     "name": "stdout",
     "output_type": "stream",
     "text": [
      "assignments =\r\n",
      "\r\n",
      "   1   1\r\n",
      "   2   1\r\n",
      "   1   2\r\n",
      "   2   2\r\n",
      "\r\n"
     ]
    }
   ],
   "source": [
    "assignments"
   ]
  },
  {
   "cell_type": "code",
   "execution_count": 260,
   "id": "789df79c",
   "metadata": {},
   "outputs": [
    {
     "name": "stdout",
     "output_type": "stream",
     "text": [
      "u =\n",
      "\n",
      "   1\n",
      "   2\n",
      "\n",
      "inds =\n",
      "\n",
      "  1\n",
      "  1\n",
      "  0\n",
      "  0\n",
      "\n",
      "B =\n",
      "\n",
      "  scalar structure containing the fields:\n",
      "\n",
      "    var = 1\n",
      "    card = 2\n",
      "    val =\n",
      "\n",
      "       1   0\n",
      "\n",
      "\n",
      "inds =\n",
      "\n",
      "  0\n",
      "  0\n",
      "  1\n",
      "  1\n",
      "\n",
      "B =\n",
      "\n",
      "  scalar structure containing the fields:\n",
      "\n",
      "    var = 1\n",
      "    card = 2\n",
      "    val =\n",
      "\n",
      "       1   1\n",
      "\n",
      "\n"
     ]
    }
   ],
   "source": [
    "u = unique(indxB)\n",
    "for i=1:length(u),\n",
    "    inds = indxB==u(i);\n",
    "    B.val(i) = sum(A.val(inds));\n",
    "    end"
   ]
  },
  {
   "cell_type": "markdown",
   "id": "f722894a",
   "metadata": {},
   "source": [
    "### Observe evidence"
   ]
  },
  {
   "cell_type": "code",
   "execution_count": 285,
   "id": "b8824f8b",
   "metadata": {},
   "outputs": [],
   "source": [
    "clear"
   ]
  },
  {
   "cell_type": "code",
   "execution_count": 286,
   "id": "b9f099ac",
   "metadata": {},
   "outputs": [
    {
     "name": "stdout",
     "output_type": "stream",
     "text": [
      "E =\r\n",
      "\r\n",
      "   2   1\r\n",
      "   3   2\r\n",
      "\r\n"
     ]
    }
   ],
   "source": [
    "E = [2 1; 3 2]"
   ]
  },
  {
   "cell_type": "code",
   "execution_count": 287,
   "id": "ee4f5c06",
   "metadata": {},
   "outputs": [],
   "source": [
    "FACTOR.INPUT(1) = struct('var', [1], 'card', [2], 'val', [0.11, 0.89]);\n",
    "\n",
    "% FACTORS.INPUT(2) contains P(X_2 | X_1)\n",
    "FACTOR.INPUT(2) = struct('var', [2, 1], 'card', [2, 2], 'val', [0.59, 0.41, 0.22, 0.78]);\n",
    "\n",
    "% FACTORS.INPUT(3) contains P(X_3 | X_2)\n",
    "FACTOR.INPUT(3) = struct('var', [3, 2], 'card', [2, 2], 'val', [0.39, 0.61, 0.06, 0.94]);"
   ]
  },
  {
   "cell_type": "code",
   "execution_count": 290,
   "id": "3e1d4766",
   "metadata": {},
   "outputs": [
    {
     "name": "stdout",
     "output_type": "stream",
     "text": [
      "F =\r\n",
      "\r\n",
      "  1x3 struct array containing the fields:\r\n",
      "\r\n",
      "    var\r\n",
      "    card\r\n",
      "    val\r\n",
      "\r\n"
     ]
    }
   ],
   "source": [
    "F = FACTOR.INPUT"
   ]
  },
  {
   "cell_type": "code",
   "execution_count": 291,
   "id": "f560c30e",
   "metadata": {},
   "outputs": [
    {
     "name": "stdout",
     "output_type": "stream",
     "text": [
      "   0.5900        0   0.2200        0\r\n",
      "   0.3900   0.6100        0        0\r\n",
      "        0   0.6100        0        0\r\n"
     ]
    }
   ],
   "source": [
    "for i = 1:size(E, 1),\n",
    "    v = E(i, 1); % variable\n",
    "    x = E(i, 2); % value\n",
    "    % Check validity of evidence\n",
    "    if (x == 0),\n",
    "        warning(['Evidence not set for variable ', int2str(v)]);\n",
    "        continue;\n",
    "    end;\n",
    "\n",
    "    for j = 1:length(F),\n",
    "\t\t  % Does factor contain variable?\n",
    "        indx = find(F(j).var == v);\n",
    "        if (~isempty(indx)),\n",
    "        \n",
    "\t\t  \t   % Check validity of evidence\n",
    "            if (x > F(j).card(indx) || x < 0 ),\n",
    "                error(['Invalid evidence, X_', int2str(v), ' = ', int2str(x)]);\n",
    "            end;\n",
    "\n",
    "            %%%%%%%%%%%%%%%%%%%%%%%%%%%%%%%%%%%%%%%%%%%%%%%%%%%%%%%%%%\n",
    "            % YOUR CODE HERE\n",
    "            % Adjust the factor F(j) to account for observed evidence\n",
    "            % Hint: You might find it helpful to use IndexToAssignment\n",
    "            %       and SetValueOfAssignment\n",
    "            %%%%%%%%%%%%%%%%%%%%%%%%%%%%%%%%%%%%%%%%%%%%%%%%%%%%%%%%%%\n",
    "            assignments = IndexToAssignment(1:length(F(j).val), F(j).card);\n",
    "            column_to_check = assignments(:,indx);\n",
    "            idx_zero = ~(column_to_check==x);\n",
    "            F(j).val(idx_zero) = 0;\n",
    "            %%%%%%%%%%%%%%%%%%%%%%%%%%%%%%%%%%%%%%%%%%%%%%%%%%%%%%%%%%\n",
    "\n",
    "\t\t\t\t% Check validity of evidence / resulting factor\n",
    "            if (all(F(j).val == 0)),\n",
    "                warning(['Factor ', int2str(j), ' makes variable assignment impossible']);\n",
    "            end;\n",
    "\n",
    "        end;\n",
    "    end;\n",
    "end;\n",
    "\n"
   ]
  },
  {
   "cell_type": "markdown",
   "id": "6436e1c1",
   "metadata": {},
   "source": [
    "### Joint distribution"
   ]
  },
  {
   "cell_type": "code",
   "execution_count": 292,
   "id": "e7a73d42",
   "metadata": {},
   "outputs": [],
   "source": [
    "clear"
   ]
  },
  {
   "cell_type": "code",
   "execution_count": 293,
   "id": "ae666472",
   "metadata": {},
   "outputs": [],
   "source": [
    "FACTOR.INPUT(1) = struct('var', [1], 'card', [2], 'val', [0.11, 0.89]);\n",
    "\n",
    "% FACTORS.INPUT(2) contains P(X_2 | X_1)\n",
    "FACTOR.INPUT(2) = struct('var', [2, 1], 'card', [2, 2], 'val', [0.59, 0.41, 0.22, 0.78]);\n",
    "\n",
    "% FACTORS.INPUT(3) contains P(X_3 | X_2)\n",
    "FACTOR.INPUT(3) = struct('var', [3, 2], 'card', [2, 2], 'val', [0.39, 0.61, 0.06, 0.94]);"
   ]
  },
  {
   "cell_type": "code",
   "execution_count": 296,
   "id": "19cc36d2",
   "metadata": {},
   "outputs": [],
   "source": [
    "F = FACTOR.INPUT;"
   ]
  },
  {
   "cell_type": "code",
   "execution_count": 313,
   "id": "f732c554",
   "metadata": {},
   "outputs": [],
   "source": [
    "Joint = FactorProduct(F(1),F(2));\n",
    "if length(F)>=3,\n",
    "    for i=3:length(F),\n",
    "        Joint = FactorProduct(Joint, F(i));\n",
    "    end\n",
    "end\n"
   ]
  },
  {
   "cell_type": "code",
   "execution_count": 314,
   "id": "9913dfa9",
   "metadata": {},
   "outputs": [
    {
     "name": "stdout",
     "output_type": "stream",
     "text": [
      "Joint =\r\n",
      "\r\n",
      "  scalar structure containing the fields:\r\n",
      "\r\n",
      "    var =\r\n",
      "\r\n",
      "       1   2   3\r\n",
      "\r\n",
      "    card =\r\n",
      "\r\n",
      "       2   2   2\r\n",
      "\r\n",
      "    val =\r\n",
      "\r\n",
      "     Columns 1 through 5:\r\n",
      "\r\n",
      "       2.5311e-02   7.6362e-02   2.7060e-03   4.1652e-02   3.9589e-02\r\n",
      "\r\n",
      "     Columns 6 through 8:\r\n",
      "\r\n",
      "       1.1944e-01   4.2394e-02   6.5255e-01\r\n",
      "\r\n",
      "\r\n"
     ]
    }
   ],
   "source": [
    "Joint"
   ]
  },
  {
   "cell_type": "markdown",
   "id": "980b7fd9",
   "metadata": {},
   "source": [
    "### Computing marginal"
   ]
  },
  {
   "cell_type": "code",
   "execution_count": 116,
   "id": "ff9f878e",
   "metadata": {},
   "outputs": [],
   "source": [
    "clear"
   ]
  },
  {
   "cell_type": "code",
   "execution_count": 117,
   "id": "b2b65eb1",
   "metadata": {},
   "outputs": [],
   "source": [
    "V = [2, 3];\n",
    "E = [1, 2];\n",
    "FACTOR.INPUT(1) = struct('var', [1], 'card', [2], 'val', [0.11, 0.89]);\n",
    "\n",
    "% FACTORS.INPUT(2) contains P(X_2 | X_1)\n",
    "FACTOR.INPUT(2) = struct('var', [2, 1], 'card', [2, 2], 'val', [0.56, 0.21, 0.27, 0.78]);\n",
    "\n",
    "% FACTORS.INPUT(3) contains P(X_3 | X_2)\n",
    "FACTOR.INPUT(3) = struct('var', [3, 2], 'card', [2, 2], 'val', [0.39, 0.64, 0.14, 0.94]);"
   ]
  },
  {
   "cell_type": "code",
   "execution_count": 118,
   "id": "ad7a5fa8",
   "metadata": {},
   "outputs": [],
   "source": [
    "F = FACTOR.INPUT;"
   ]
  },
  {
   "cell_type": "code",
   "execution_count": 119,
   "id": "93a139e2",
   "metadata": {},
   "outputs": [],
   "source": [
    "F_observed = ObserveEvidence(F, E);"
   ]
  },
  {
   "cell_type": "code",
   "execution_count": 120,
   "id": "d539df9f",
   "metadata": {},
   "outputs": [
    {
     "name": "stdout",
     "output_type": "stream",
     "text": [
      "ans =\r\n",
      "\r\n",
      "        0   0.8900\r\n",
      "\r\n",
      "ans =\r\n",
      "\r\n",
      "        0        0   0.2700   0.7800\r\n",
      "\r\n",
      "ans =\r\n",
      "\r\n",
      "   0.3900   0.6400   0.1400   0.9400\r\n",
      "\r\n"
     ]
    }
   ],
   "source": [
    "F_observed(1).val, F_observed(2).val, F_observed(3).val"
   ]
  },
  {
   "cell_type": "code",
   "execution_count": 121,
   "id": "39d23c11",
   "metadata": {},
   "outputs": [],
   "source": [
    "% specific normalization right after seeing evidence\n",
    "% for i=1:length(F_observed),\n",
    "%     var = F_observed(i).var;\n",
    "%     if length(var)==1,\n",
    "%         F_observed(i).val = F_observed(i).val/sum(F_observed(i).val);\n",
    "%     else\n",
    "%         assignments = IndexToAssignment(1:length(F_observed(i).val), F_observed(i).card)(:,end);\n",
    "%         u = unique(assignments);\n",
    "%         for j=1:length(u),\n",
    "%             idx = assignments==u(j);\n",
    "%             normalization_c = sum(F_observed(i).val(idx));\n",
    "%             if ~normalization_c==0,\n",
    "%                 F_observed(i).val(idx) = F_observed(i).val(idx)/normalization_c;\n",
    "%                 end\n",
    "%             end\n",
    "%     end\n",
    "    \n",
    "% end"
   ]
  },
  {
   "cell_type": "code",
   "execution_count": 122,
   "id": "6e426eaa",
   "metadata": {},
   "outputs": [
    {
     "name": "stdout",
     "output_type": "stream",
     "text": [
      "ans =\r\n",
      "\r\n",
      "        0   0.8900\r\n",
      "\r\n",
      "ans =\r\n",
      "\r\n",
      "        0        0   0.2700   0.7800\r\n",
      "\r\n",
      "ans =\r\n",
      "\r\n",
      "   0.3900   0.6400   0.1400   0.9400\r\n",
      "\r\n"
     ]
    }
   ],
   "source": [
    "F_observed(1).val, F_observed(2).val, F_observed(3).val"
   ]
  },
  {
   "cell_type": "code",
   "execution_count": 123,
   "id": "842a9fd2",
   "metadata": {},
   "outputs": [
    {
     "name": "stdout",
     "output_type": "stream",
     "text": [
      "joint_dist =\r\n",
      "\r\n",
      "  scalar structure containing the fields:\r\n",
      "\r\n",
      "    var =\r\n",
      "\r\n",
      "       1   2   3\r\n",
      "\r\n",
      "    card =\r\n",
      "\r\n",
      "       2   2   2\r\n",
      "\r\n",
      "    val =\r\n",
      "\r\n",
      "            0   0.0937        0   0.0972        0   0.1538        0   0.6525\r\n",
      "\r\n",
      "\r\n"
     ]
    }
   ],
   "source": [
    "joint_dist = ComputeJointDistribution(F_observed)"
   ]
  },
  {
   "cell_type": "code",
   "execution_count": 124,
   "id": "1536ecbf",
   "metadata": {},
   "outputs": [
    {
     "name": "stdout",
     "output_type": "stream",
     "text": [
      "joint_dist =\r\n",
      "\r\n",
      "  scalar structure containing the fields:\r\n",
      "\r\n",
      "    var =\r\n",
      "\r\n",
      "       1   2   3\r\n",
      "\r\n",
      "    card =\r\n",
      "\r\n",
      "       2   2   2\r\n",
      "\r\n",
      "    val =\r\n",
      "\r\n",
      "            0   0.0937        0   0.0972        0   0.1538        0   0.6525\r\n",
      "\r\n",
      "\r\n"
     ]
    }
   ],
   "source": [
    "joint_dist"
   ]
  },
  {
   "cell_type": "code",
   "execution_count": 125,
   "id": "494867b1",
   "metadata": {},
   "outputs": [
    {
     "name": "stdout",
     "output_type": "stream",
     "text": [
      "to_marginalize = 1\r\n"
     ]
    }
   ],
   "source": [
    "to_marginalize = setdiff(joint_dist.var, V)"
   ]
  },
  {
   "cell_type": "code",
   "execution_count": 126,
   "id": "ae58ff3a",
   "metadata": {},
   "outputs": [
    {
     "name": "stdout",
     "output_type": "stream",
     "text": [
      "ans =\r\n",
      "\r\n",
      "  scalar structure containing the fields:\r\n",
      "\r\n",
      "    var =\r\n",
      "\r\n",
      "       2   3\r\n",
      "\r\n",
      "    card =\r\n",
      "\r\n",
      "       2   2\r\n",
      "\r\n",
      "    val =\r\n",
      "\r\n",
      "       0.093717   0.097188   0.153792   0.652548\r\n",
      "\r\n",
      "\r\n"
     ]
    }
   ],
   "source": [
    "FactorMarginalization(joint_dist,to_marginalize)"
   ]
  },
  {
   "cell_type": "code",
   "execution_count": 127,
   "id": "9a034bd9",
   "metadata": {},
   "outputs": [
    {
     "name": "stdout",
     "output_type": "stream",
     "text": [
      "M =\r\n",
      "\r\n",
      "  scalar structure containing the fields:\r\n",
      "\r\n",
      "    var =\r\n",
      "\r\n",
      "       2   3\r\n",
      "\r\n",
      "    card =\r\n",
      "\r\n",
      "       2   2\r\n",
      "\r\n",
      "    val =\r\n",
      "\r\n",
      "       0.093976   0.097456   0.154217   0.654351\r\n",
      "\r\n",
      "\r\n"
     ]
    }
   ],
   "source": [
    "M = ComputeMarginal(V, F, E)"
   ]
  },
  {
   "cell_type": "code",
   "execution_count": 128,
   "id": "cba4b7f5",
   "metadata": {},
   "outputs": [],
   "source": [
    "M.val = M.val./sum(M.val);\n"
   ]
  },
  {
   "cell_type": "code",
   "execution_count": 129,
   "id": "2e5d7f6f",
   "metadata": {},
   "outputs": [
    {
     "name": "stdout",
     "output_type": "stream",
     "text": [
      "ans =\r\n",
      "\r\n",
      "   0.093976   0.097456   0.154217   0.654351\r\n",
      "\r\n"
     ]
    }
   ],
   "source": [
    "M.val"
   ]
  },
  {
   "cell_type": "code",
   "execution_count": null,
   "id": "dadcda36",
   "metadata": {},
   "outputs": [],
   "source": []
  }
 ],
 "metadata": {
  "kernelspec": {
   "display_name": "Octave",
   "language": "octave",
   "name": "octave"
  },
  "language_info": {
   "file_extension": ".m",
   "help_links": [
    {
     "text": "GNU Octave",
     "url": "https://www.gnu.org/software/octave/support.html"
    },
    {
     "text": "Octave Kernel",
     "url": "https://github.com/Calysto/octave_kernel"
    },
    {
     "text": "MetaKernel Magics",
     "url": "https://metakernel.readthedocs.io/en/latest/source/README.html"
    }
   ],
   "mimetype": "text/x-octave",
   "name": "octave",
   "version": "6.3.0"
  }
 },
 "nbformat": 4,
 "nbformat_minor": 5
}
