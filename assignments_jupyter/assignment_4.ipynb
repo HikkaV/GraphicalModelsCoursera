{
 "cells": [
  {
   "cell_type": "code",
   "execution_count": 1,
   "id": "afda1a7b",
   "metadata": {},
   "outputs": [],
   "source": [
    "cd ../assignment4/"
   ]
  },
  {
   "cell_type": "code",
   "execution_count": 3,
   "id": "50e4547f",
   "metadata": {},
   "outputs": [
    {
     "name": "stdout",
     "output_type": "stream",
     "text": [
      "AssignmentToIndex.m\t\t\tOptimizeLinearExpectations.m\r\n",
      "CPDFromFactor.m\t\t\t\tOptimizeMEU.m\r\n",
      "CalculateExpectedUtilityFactor.m\tOptimizeWithJointUtility.m\r\n",
      "EliminateVar.m\t\t\t\tPA-Decision-Making.pdf\r\n",
      "FactorMarginalization.m\t\t\tPrintFactor.m\r\n",
      "FactorProduct.m\t\t\t\tSetValueOfAssignment.m\r\n",
      "FullI.mat\t\t\t\tSimpleCalcExpectedUtility.m\r\n",
      "GetValueOfAssignment.m\t\t\tSimpleOptimizeMEU.m\r\n",
      "IndexToAssignment.m\t\t\tTestCases.m\r\n",
      "MultipleUtilityI.mat\t\t\tTestI0.mat\r\n",
      "NormalizeCPDFactors.m\t\t\tVariableElimination.m\r\n",
      "NormalizeFactorValues.m\t\t\tlib\r\n",
      "ObserveEvidence.m\t\t\tsubmit.m\r\n"
     ]
    }
   ],
   "source": [
    "ls"
   ]
  },
  {
   "cell_type": "markdown",
   "id": "062d4f2f",
   "metadata": {},
   "source": [
    "# SimpleCalcExpectedUtility"
   ]
  },
  {
   "cell_type": "code",
   "execution_count": 4,
   "id": "1f264655",
   "metadata": {},
   "outputs": [],
   "source": [
    "X1 = struct('var', [1], 'card', [2], 'val', [7, 3]);\n",
    "X1.val = X1.val / sum(X1.val);\n",
    "D = struct('var', [2], 'card', [2], 'val', [1 0]);\n",
    "U1 = struct('var', [1, 2], 'card', [2, 2], 'val', [10, 1, 5, 1]);\n",
    "\n",
    "I1.RandomFactors = X1;\n",
    "I1.DecisionFactors = D;\n",
    "I1.UtilityFactors = U1;\n"
   ]
  },
  {
   "cell_type": "code",
   "execution_count": 7,
   "id": "087c4501",
   "metadata": {},
   "outputs": [],
   "source": [
    "F = [I1.RandomFactors I1.DecisionFactors];\n",
    "U = I1.UtilityFactors(1);\n",
    "EU = [];"
   ]
  },
  {
   "cell_type": "code",
   "execution_count": 45,
   "id": "89314437",
   "metadata": {},
   "outputs": [],
   "source": [
    "new_factor = struct(\"var\",[F(1).var, F(2).var],\n",
    "\"card\", [F(1).card, F(2).card]);"
   ]
  },
  {
   "cell_type": "code",
   "execution_count": 123,
   "id": "2d00a72c",
   "metadata": {},
   "outputs": [],
   "source": [
    "allVar = unique([F(:).var]);\n",
    "[Z,Z1]  = setdiff(allVar, I1.UtilityFactors.var); \n",
    "Fnew = VariableElimination(F, Z);\n",
    "new_factor = struct(\"var\",[],\"card\", [], \"val\", []);\n",
    "for i=1:length(Fnew),\n",
    "       new_factor = FactorProduct(new_factor, Fnew(i));\n",
    "end\n",
    "\n",
    "EU = sum(FactorProduct(new_factor, U).val);\n",
    "\n",
    "EU = [EU]; "
   ]
  },
  {
   "cell_type": "code",
   "execution_count": 124,
   "id": "92c4743e",
   "metadata": {},
   "outputs": [
    {
     "name": "stdout",
     "output_type": "stream",
     "text": [
      "EU = 7.3000\r\n"
     ]
    }
   ],
   "source": [
    "EU"
   ]
  },
  {
   "cell_type": "markdown",
   "id": "b5d9e840",
   "metadata": {},
   "source": [
    "## testing"
   ]
  },
  {
   "cell_type": "code",
   "execution_count": 125,
   "id": "028efc45",
   "metadata": {},
   "outputs": [
    {
     "name": "stdout",
     "output_type": "stream",
     "text": [
      "allEU =\r\n",
      "\r\n",
      "   7.3000\r\n",
      "   3.8000\r\n",
      "\r\n"
     ]
    }
   ],
   "source": [
    "X1 = struct('var', [1], 'card', [2], 'val', [7, 3]);\n",
    "X1.val = X1.val / sum(X1.val);\n",
    "D = struct('var', [2], 'card', [2], 'val', [1 0]);\n",
    "U1 = struct('var', [1, 2], 'card', [2, 2], 'val', [10, 1, 5, 1]);\n",
    "\n",
    "I1.RandomFactors = X1;\n",
    "I1.DecisionFactors = D;\n",
    "I1.UtilityFactors = U1;\n",
    "\n",
    "% All possible decision rules.\n",
    "D1 = D;\n",
    "D2 = D;\n",
    "D2.val = [0 1];\n",
    "AllDs = [D1 D2];\n",
    "\n",
    "allEU = zeros(length(AllDs),1);\n",
    "for i=1:length(AllDs)\n",
    "  I1.DecisionFactors = AllDs(i);\n",
    "  allEU(i) = SimpleCalcExpectedUtility(I1);\n",
    "end\n",
    "\n",
    "% OUTPUT\n",
    "%allEU => [7.3000, 3.8000]\n",
    "\n",
    "allEU"
   ]
  },
  {
   "cell_type": "markdown",
   "id": "8e54190d",
   "metadata": {},
   "source": [
    "## quiz questions"
   ]
  },
  {
   "cell_type": "code",
   "execution_count": 164,
   "id": "b6420961",
   "metadata": {},
   "outputs": [],
   "source": [
    "full = load(\"FullI.mat\");"
   ]
  },
  {
   "cell_type": "code",
   "execution_count": 188,
   "id": "d3d680ff",
   "metadata": {},
   "outputs": [
    {
     "name": "stdout",
     "output_type": "stream",
     "text": [
      "ans =\r\n",
      "\r\n",
      "  scalar structure containing the fields:\r\n",
      "\r\n",
      "    var =\r\n",
      "\r\n",
      "        9   11\r\n",
      "\r\n",
      "    card =\r\n",
      "\r\n",
      "       2   2\r\n",
      "\r\n",
      "    val =\r\n",
      "\r\n",
      "       1   0   0   1\r\n",
      "\r\n",
      "\r\n"
     ]
    }
   ],
   "source": [
    "full.FullI.DecisionFactors"
   ]
  },
  {
   "cell_type": "code",
   "execution_count": 165,
   "id": "2007c7ee",
   "metadata": {},
   "outputs": [
    {
     "name": "stdout",
     "output_type": "stream",
     "text": [
      "ans = -685.95\r\n"
     ]
    }
   ],
   "source": [
    "SimpleCalcExpectedUtility(full.FullI)"
   ]
  },
  {
   "cell_type": "code",
   "execution_count": 166,
   "id": "9ba1c488",
   "metadata": {},
   "outputs": [],
   "source": [
    "full.FullI.RandomFactors = ObserveEvidence(full.FullI.RandomFactors, [3 2]);"
   ]
  },
  {
   "cell_type": "code",
   "execution_count": 167,
   "id": "819da7da",
   "metadata": {},
   "outputs": [
    {
     "name": "stdout",
     "output_type": "stream",
     "text": [
      "ans = -349.80\r\n"
     ]
    }
   ],
   "source": [
    "SimpleCalcExpectedUtility(full.FullI)"
   ]
  },
  {
   "cell_type": "markdown",
   "id": "91591638",
   "metadata": {},
   "source": [
    "# CalculateExpectedUtilityFactor"
   ]
  },
  {
   "cell_type": "code",
   "execution_count": 201,
   "id": "73e1a613",
   "metadata": {},
   "outputs": [],
   "source": [
    "X1 = struct('var', [1], 'card', [2], 'val', [7, 3]);\n",
    "X1.val = X1.val / sum(X1.val);\n",
    "D = struct('var', [2], 'card', [2], 'val', [1 0]);\n",
    "U1 = struct('var', [1, 2], 'card', [2, 2], 'val', [10, 1, 5, 1]);\n",
    "\n",
    "I1.RandomFactors = X1;\n",
    "I1.DecisionFactors = D;\n",
    "I1.UtilityFactors = U1;"
   ]
  },
  {
   "cell_type": "code",
   "execution_count": 197,
   "id": "a8dc55fb",
   "metadata": {},
   "outputs": [
    {
     "name": "stdout",
     "output_type": "stream",
     "text": [
      "ans =\n",
      "\n",
      "  scalar structure containing the fields:\n",
      "\n",
      "    var = 1\n",
      "    card = 2\n",
      "    val =\n",
      "\n",
      "       0.7000   0.3000\n",
      "\n",
      "\n",
      "Z = 1\n",
      "Fnew =\n",
      "\n",
      "  scalar structure containing the fields:\n",
      "\n",
      "    var = 2\n",
      "    card = 2\n",
      "    val =\n",
      "\n",
      "       7.3000   3.8000\n",
      "\n",
      "\n"
     ]
    }
   ],
   "source": [
    "EUF = struct('var', [], 'card', [], 'val', []);\n",
    "\n",
    "F = [I1.RandomFactors I1.UtilityFactors];     % don't forget to add utility as VE is over random factors times utility factors\n",
    "%  F = I.RandomFactors;\n",
    "U = I1.UtilityFactors(1);\n",
    "\n",
    "% allVar = unique([I.RandomFactors(:).var]);\n",
    "allVar = unique([F(:).var]);\n",
    "[Z,Z1]  = setdiff(allVar, I1.DecisionFactors.var); \n",
    "Fnew = VariableElimination(F, 1);\n",
    "parentsU = struct('var', [], 'card', [], 'val', []);    % used to build the final joint distribution over U's parents\n",
    "for numFactors = 1:length(Fnew)\n",
    "  parentsU = FactorProduct(parentsU, Fnew(numFactors));\n",
    "end\n",
    "% if (length (parentsU.val) == length (U.val)) \n",
    "%  EUF = times(parentsU.val, U.val);\n",
    "% end\n",
    "EUF = parentsU;"
   ]
  },
  {
   "cell_type": "code",
   "execution_count": 198,
   "id": "a079d0ed",
   "metadata": {},
   "outputs": [
    {
     "name": "stdout",
     "output_type": "stream",
     "text": [
      "EUF =\r\n",
      "\r\n",
      "  scalar structure containing the fields:\r\n",
      "\r\n",
      "    var = 2\r\n",
      "    card = 2\r\n",
      "    val =\r\n",
      "\r\n",
      "       7.3000   3.8000\r\n",
      "\r\n",
      "\r\n"
     ]
    }
   ],
   "source": [
    "EUF"
   ]
  },
  {
   "cell_type": "markdown",
   "id": "485555b3",
   "metadata": {},
   "source": [
    "# OptimizeMEU"
   ]
  },
  {
   "cell_type": "code",
   "execution_count": 208,
   "id": "31ab5bf0",
   "metadata": {},
   "outputs": [
    {
     "name": "stdout",
     "output_type": "stream",
     "text": [
      "meu = 7.3000\r\n",
      "optdr =\r\n",
      "\r\n",
      "  scalar structure containing the fields:\r\n",
      "\r\n",
      "    var = 2\r\n",
      "    card = 2\r\n",
      "    val =\r\n",
      "\r\n",
      "       1   0\r\n",
      "\r\n",
      "\r\n"
     ]
    }
   ],
   "source": [
    "[meu optdr] = OptimizeMEU(I1)"
   ]
  },
  {
   "cell_type": "markdown",
   "id": "a6efae0e",
   "metadata": {},
   "source": [
    "# Last questions"
   ]
  },
  {
   "cell_type": "code",
   "execution_count": 212,
   "id": "b53d20dd",
   "metadata": {},
   "outputs": [],
   "source": [
    "testio = load(\"TestI0.mat\").TestI0;"
   ]
  },
  {
   "cell_type": "code",
   "execution_count": 215,
   "id": "a6e5cc61",
   "metadata": {},
   "outputs": [],
   "source": [
    "res = OptimizeWithJointUtility(testio);"
   ]
  },
  {
   "cell_type": "code",
   "execution_count": 216,
   "id": "045819c2",
   "metadata": {},
   "outputs": [
    {
     "name": "stdout",
     "output_type": "stream",
     "text": [
      "res = 584.22\r\n"
     ]
    }
   ],
   "source": [
    "res"
   ]
  },
  {
   "cell_type": "code",
   "execution_count": null,
   "id": "e05779a0",
   "metadata": {},
   "outputs": [],
   "source": []
  }
 ],
 "metadata": {
  "kernelspec": {
   "display_name": "Octave",
   "language": "octave",
   "name": "octave"
  },
  "language_info": {
   "file_extension": ".m",
   "help_links": [
    {
     "text": "GNU Octave",
     "url": "https://www.gnu.org/software/octave/support.html"
    },
    {
     "text": "Octave Kernel",
     "url": "https://github.com/Calysto/octave_kernel"
    },
    {
     "text": "MetaKernel Magics",
     "url": "https://metakernel.readthedocs.io/en/latest/source/README.html"
    }
   ],
   "mimetype": "text/x-octave",
   "name": "octave",
   "version": "6.3.0"
  }
 },
 "nbformat": 4,
 "nbformat_minor": 5
}
